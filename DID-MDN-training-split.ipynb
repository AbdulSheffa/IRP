import os
from PIL import Image

# Define dataset paths and corresponding output paths
datasets = {
    "Rain_Heavy": {
        "input": "/content/drive/MyDrive/Khabeer - IRP/Dataset/DID-MDN-datasets/DID-MDN-training/Rain_Heavy/train2018new",
        "output": "/content/drive/MyDrive/Khabeer - IRP/Dataset/DID-MDN-datasets/DID-MDN-training-split/Rain_Heavy"
    },
    "Rain_Light": {
        "input": "/content/drive/MyDrive/Khabeer - IRP/Dataset/DID-MDN-datasets/DID-MDN-training/Rain_Light/train2018new",
        "output": "/content/drive/MyDrive/Khabeer - IRP/Dataset/DID-MDN-datasets/DID-MDN-training-split/Rain_Light"
    },
    "Rain_Medium": {
        "input": "/content/drive/MyDrive/Khabeer - IRP/Dataset/DID-MDN-datasets/DID-MDN-training/Rain_Medium/train2018new",
        "output": "/content/drive/MyDrive/Khabeer - IRP/Dataset/DID-MDN-datasets/DID-MDN-training-split/Rain_Medium"
    }
}

# Function to process and split images
def split_images(input_dir, output_dir):
    rainy_path = os.path.join(output_dir, "rainy")
    non_rainy_path = os.path.join(output_dir, "non_rainy")

    os.makedirs(rainy_path, exist_ok=True)
    os.makedirs(non_rainy_path, exist_ok=True)

    for filename in os.listdir(input_dir):
        file_path = os.path.join(input_dir, filename)
        if filename.endswith(('.png', '.jpg', '.jpeg')):  # Process only image files
            try:
                # Open the image
                img = Image.open(file_path)
                width, height = img.size

                # Split the image into two halves
                rainy_part = img.crop((0, 0, width // 2, height))  # Left half
                non_rainy_part = img.crop((width // 2, 0, width, height))  # Right half

                # Save the split images
                rainy_output = os.path.join(rainy_path, f"rainy_{filename}")
                non_rainy_output = os.path.join(non_rainy_path, f"non_rainy_{filename}")

                rainy_part.save(rainy_output)
                non_rainy_part.save(non_rainy_output)

                print(f"Processed {filename} → Saved to {rainy_output} and {non_rainy_output}")

            except Exception as e:
                print(f"Error processing {filename}: {e}")

    print(f"Splitting complete! Rainy images saved in {rainy_path}, Non-rainy images saved in {non_rainy_path}.")

# Loop through each dataset and process images
for dataset_name, paths in datasets.items():
    print(f"\n🔹 Processing dataset: {dataset_name}...")
    split_images(paths["input"], paths["output"])

print("\n✅ All datasets processed successfully!")
