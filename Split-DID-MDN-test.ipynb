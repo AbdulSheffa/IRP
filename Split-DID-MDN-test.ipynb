import os
from PIL import Image

# Define dataset path
dataset_path = "/content/drive/MyDrive/Khabeer - IRP/Dataset/DID-MDN-datasets/DID-MDN-test"
output_path = "/content/drive/MyDrive/Khabeer - IRP/Dataset/DID-MDN-datasets/Split-DID-MDN"

# Create output directories for rainy and non-rainy
rainy_path = os.path.join(output_path, "rainy")
non_rainy_path = os.path.join(output_path, "non_rainy")

os.makedirs(rainy_path, exist_ok=True)
os.makedirs(non_rainy_path, exist_ok=True)

# Split each image
for filename in os.listdir(dataset_path):
    file_path = os.path.join(dataset_path, filename)
    if filename.endswith(('.png', '.jpg', '.jpeg')):  # Process only image files
        try:
            # Open the image
            img = Image.open(file_path)
            width, height = img.size

            # Split the image into two halves
            rainy_part = img.crop((0, 0, width // 2, height))  # Left half
            non_rainy_part = img.crop((width // 2, 0, width, height))  # Right half

            # Save the split images
            rainy_output = os.path.join(rainy_path, f"rainy_{filename}")
            non_rainy_output = os.path.join(non_rainy_path, f"non_rainy_{filename}")

            rainy_part.save(rainy_output)
            non_rainy_part.save(non_rainy_output)

            print(f"Processed: {filename}")
        except Exception as e:
            print(f"Error processing {filename}: {e}")

print(f"Splitting complete! Rainy images saved in {rainy_path}, Non-rainy images saved in {non_rainy_path}.")
